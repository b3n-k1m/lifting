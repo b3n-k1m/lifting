{
 "cells": [
  {
   "cell_type": "code",
   "execution_count": 1,
   "id": "95959831-4cce-4a35-802a-38c049942e8f",
   "metadata": {},
   "outputs": [
    {
     "name": "stdout",
     "output_type": "stream",
     "text": [
      "Collecting keras-ocr\n",
      "  Cloning https://github.com/faustomorales/keras-ocr.git to c:\\users\\compu\\appdata\\local\\temp\\pip-install-krk_cu32\\keras-ocr_0ac079666a27489f83b92c55125e60ea\n",
      "  Resolved https://github.com/faustomorales/keras-ocr.git to commit b9c5a5871368fc337cbb6cd8f427b64a08626421\n",
      "  Installing build dependencies: started\n",
      "  Installing build dependencies: finished with status 'done'\n",
      "  Getting requirements to build wheel: started\n",
      "  Getting requirements to build wheel: finished with status 'done'\n",
      "  Preparing metadata (pyproject.toml): started\n",
      "  Preparing metadata (pyproject.toml): finished with status 'done'\n",
      "Requirement already satisfied: editdistance in c:\\users\\compu\\appdata\\local\\programs\\python\\python39\\lib\\site-packages (from keras-ocr) (0.6.2)\n",
      "Requirement already satisfied: efficientnet==1.0.0 in c:\\users\\compu\\appdata\\local\\programs\\python\\python39\\lib\\site-packages (from keras-ocr) (1.0.0)\n",
      "Requirement already satisfied: essential_generators in c:\\users\\compu\\appdata\\local\\programs\\python\\python39\\lib\\site-packages (from keras-ocr) (1.0)\n",
      "Requirement already satisfied: fonttools in c:\\users\\compu\\appdata\\local\\programs\\python\\python39\\lib\\site-packages (from keras-ocr) (4.41.1)\n",
      "Requirement already satisfied: imgaug in c:\\users\\compu\\appdata\\local\\programs\\python\\python39\\lib\\site-packages (from keras-ocr) (0.4.0)\n",
      "Requirement already satisfied: pyclipper in c:\\users\\compu\\appdata\\local\\programs\\python\\python39\\lib\\site-packages (from keras-ocr) (1.3.0.post4)\n",
      "Requirement already satisfied: shapely in c:\\users\\compu\\appdata\\local\\programs\\python\\python39\\lib\\site-packages (from keras-ocr) (2.0.1)\n",
      "Requirement already satisfied: tqdm in c:\\users\\compu\\appdata\\local\\programs\\python\\python39\\lib\\site-packages (from keras-ocr) (4.65.0)\n",
      "Requirement already satisfied: validators in c:\\users\\compu\\appdata\\local\\programs\\python\\python39\\lib\\site-packages (from keras-ocr) (0.20.0)\n",
      "Requirement already satisfied: keras-applications<=1.0.8,>=1.0.7 in c:\\users\\compu\\appdata\\local\\programs\\python\\python39\\lib\\site-packages (from efficientnet==1.0.0->keras-ocr) (1.0.8)\n",
      "Requirement already satisfied: scikit-image in c:\\users\\compu\\appdata\\local\\programs\\python\\python39\\lib\\site-packages (from efficientnet==1.0.0->keras-ocr) (0.21.0)\n",
      "Requirement already satisfied: six in c:\\users\\compu\\appdata\\local\\programs\\python\\python39\\lib\\site-packages (from imgaug->keras-ocr) (1.16.0)\n",
      "Requirement already satisfied: numpy>=1.15 in c:\\users\\compu\\appdata\\local\\programs\\python\\python39\\lib\\site-packages (from imgaug->keras-ocr) (1.25.1)\n",
      "Requirement already satisfied: scipy in c:\\users\\compu\\appdata\\local\\programs\\python\\python39\\lib\\site-packages (from imgaug->keras-ocr) (1.11.1)\n",
      "Requirement already satisfied: Pillow in c:\\users\\compu\\appdata\\local\\programs\\python\\python39\\lib\\site-packages (from imgaug->keras-ocr) (10.0.0)\n",
      "Requirement already satisfied: matplotlib in c:\\users\\compu\\appdata\\local\\programs\\python\\python39\\lib\\site-packages (from imgaug->keras-ocr) (3.7.2)\n",
      "Requirement already satisfied: opencv-python in c:\\users\\compu\\appdata\\local\\programs\\python\\python39\\lib\\site-packages (from imgaug->keras-ocr) (4.8.0.74)\n",
      "Requirement already satisfied: imageio in c:\\users\\compu\\appdata\\local\\programs\\python\\python39\\lib\\site-packages (from imgaug->keras-ocr) (2.31.1)\n",
      "Requirement already satisfied: colorama in c:\\users\\compu\\appdata\\local\\programs\\python\\python39\\lib\\site-packages (from tqdm->keras-ocr) (0.4.6)\n",
      "Requirement already satisfied: decorator>=3.4.0 in c:\\users\\compu\\appdata\\local\\programs\\python\\python39\\lib\\site-packages (from validators->keras-ocr) (5.1.1)\n",
      "Requirement already satisfied: h5py in c:\\users\\compu\\appdata\\local\\programs\\python\\python39\\lib\\site-packages (from keras-applications<=1.0.8,>=1.0.7->efficientnet==1.0.0->keras-ocr) (3.9.0)\n",
      "Requirement already satisfied: networkx>=2.8 in c:\\users\\compu\\appdata\\local\\programs\\python\\python39\\lib\\site-packages (from scikit-image->efficientnet==1.0.0->keras-ocr) (3.1)\n",
      "Requirement already satisfied: tifffile>=2022.8.12 in c:\\users\\compu\\appdata\\local\\programs\\python\\python39\\lib\\site-packages (from scikit-image->efficientnet==1.0.0->keras-ocr) (2023.7.18)\n",
      "Requirement already satisfied: PyWavelets>=1.1.1 in c:\\users\\compu\\appdata\\local\\programs\\python\\python39\\lib\\site-packages (from scikit-image->efficientnet==1.0.0->keras-ocr) (1.4.1)\n",
      "Requirement already satisfied: packaging>=21 in c:\\users\\compu\\appdata\\local\\programs\\python\\python39\\lib\\site-packages (from scikit-image->efficientnet==1.0.0->keras-ocr) (23.1)\n",
      "Requirement already satisfied: lazy_loader>=0.2 in c:\\users\\compu\\appdata\\local\\programs\\python\\python39\\lib\\site-packages (from scikit-image->efficientnet==1.0.0->keras-ocr) (0.3)\n",
      "Requirement already satisfied: contourpy>=1.0.1 in c:\\users\\compu\\appdata\\local\\programs\\python\\python39\\lib\\site-packages (from matplotlib->imgaug->keras-ocr) (1.1.0)\n",
      "Requirement already satisfied: cycler>=0.10 in c:\\users\\compu\\appdata\\local\\programs\\python\\python39\\lib\\site-packages (from matplotlib->imgaug->keras-ocr) (0.11.0)\n",
      "Requirement already satisfied: kiwisolver>=1.0.1 in c:\\users\\compu\\appdata\\local\\programs\\python\\python39\\lib\\site-packages (from matplotlib->imgaug->keras-ocr) (1.4.4)\n",
      "Requirement already satisfied: pyparsing<3.1,>=2.3.1 in c:\\users\\compu\\appdata\\local\\programs\\python\\python39\\lib\\site-packages (from matplotlib->imgaug->keras-ocr) (3.0.9)\n",
      "Requirement already satisfied: python-dateutil>=2.7 in c:\\users\\compu\\appdata\\local\\programs\\python\\python39\\lib\\site-packages (from matplotlib->imgaug->keras-ocr) (2.8.2)\n",
      "Requirement already satisfied: importlib-resources>=3.2.0 in c:\\users\\compu\\appdata\\local\\programs\\python\\python39\\lib\\site-packages (from matplotlib->imgaug->keras-ocr) (6.0.0)\n",
      "Requirement already satisfied: zipp>=3.1.0 in c:\\users\\compu\\appdata\\local\\programs\\python\\python39\\lib\\site-packages (from importlib-resources>=3.2.0->matplotlib->imgaug->keras-ocr) (3.16.2)\n",
      "Note: you may need to restart the kernel to use updated packages.\n"
     ]
    },
    {
     "name": "stderr",
     "output_type": "stream",
     "text": [
      "  Running command git clone --filter=blob:none --quiet https://github.com/faustomorales/keras-ocr.git 'C:\\Users\\compu\\AppData\\Local\\Temp\\pip-install-krk_cu32\\keras-ocr_0ac079666a27489f83b92c55125e60ea'\n"
     ]
    }
   ],
   "source": [
    "pip install git+https://github.com/faustomorales/keras-ocr.git#egg=keras-ocr"
   ]
  },
  {
   "cell_type": "code",
   "execution_count": 2,
   "id": "fd42cede-3dc8-46b5-b3a5-bedca3597d42",
   "metadata": {},
   "outputs": [
    {
     "name": "stdout",
     "output_type": "stream",
     "text": [
      "Requirement already satisfied: tensorflow<2.11 in c:\\users\\compu\\appdata\\local\\programs\\python\\python39\\lib\\site-packages (2.10.1)\n",
      "Requirement already satisfied: absl-py>=1.0.0 in c:\\users\\compu\\appdata\\local\\programs\\python\\python39\\lib\\site-packages (from tensorflow<2.11) (1.4.0)\n",
      "Requirement already satisfied: astunparse>=1.6.0 in c:\\users\\compu\\appdata\\local\\programs\\python\\python39\\lib\\site-packages (from tensorflow<2.11) (1.6.3)\n",
      "Requirement already satisfied: flatbuffers>=2.0 in c:\\users\\compu\\appdata\\local\\programs\\python\\python39\\lib\\site-packages (from tensorflow<2.11) (23.5.26)\n",
      "Requirement already satisfied: gast<=0.4.0,>=0.2.1 in c:\\users\\compu\\appdata\\local\\programs\\python\\python39\\lib\\site-packages (from tensorflow<2.11) (0.4.0)\n",
      "Requirement already satisfied: google-pasta>=0.1.1 in c:\\users\\compu\\appdata\\local\\programs\\python\\python39\\lib\\site-packages (from tensorflow<2.11) (0.2.0)\n",
      "Requirement already satisfied: h5py>=2.9.0 in c:\\users\\compu\\appdata\\local\\programs\\python\\python39\\lib\\site-packages (from tensorflow<2.11) (3.9.0)\n",
      "Requirement already satisfied: keras-preprocessing>=1.1.1 in c:\\users\\compu\\appdata\\local\\programs\\python\\python39\\lib\\site-packages (from tensorflow<2.11) (1.1.2)\n",
      "Requirement already satisfied: libclang>=13.0.0 in c:\\users\\compu\\appdata\\local\\programs\\python\\python39\\lib\\site-packages (from tensorflow<2.11) (16.0.6)\n",
      "Requirement already satisfied: numpy>=1.20 in c:\\users\\compu\\appdata\\local\\programs\\python\\python39\\lib\\site-packages (from tensorflow<2.11) (1.25.1)\n",
      "Requirement already satisfied: opt-einsum>=2.3.2 in c:\\users\\compu\\appdata\\local\\programs\\python\\python39\\lib\\site-packages (from tensorflow<2.11) (3.3.0)\n",
      "Requirement already satisfied: packaging in c:\\users\\compu\\appdata\\local\\programs\\python\\python39\\lib\\site-packages (from tensorflow<2.11) (23.1)\n",
      "Requirement already satisfied: protobuf<3.20,>=3.9.2 in c:\\users\\compu\\appdata\\local\\programs\\python\\python39\\lib\\site-packages (from tensorflow<2.11) (3.19.6)\n",
      "Requirement already satisfied: setuptools in c:\\users\\compu\\appdata\\local\\programs\\python\\python39\\lib\\site-packages (from tensorflow<2.11) (58.1.0)\n",
      "Requirement already satisfied: six>=1.12.0 in c:\\users\\compu\\appdata\\local\\programs\\python\\python39\\lib\\site-packages (from tensorflow<2.11) (1.16.0)\n",
      "Requirement already satisfied: termcolor>=1.1.0 in c:\\users\\compu\\appdata\\local\\programs\\python\\python39\\lib\\site-packages (from tensorflow<2.11) (2.3.0)\n",
      "Requirement already satisfied: typing-extensions>=3.6.6 in c:\\users\\compu\\appdata\\local\\programs\\python\\python39\\lib\\site-packages (from tensorflow<2.11) (4.7.1)\n",
      "Requirement already satisfied: wrapt>=1.11.0 in c:\\users\\compu\\appdata\\local\\programs\\python\\python39\\lib\\site-packages (from tensorflow<2.11) (1.15.0)\n",
      "Requirement already satisfied: tensorflow-io-gcs-filesystem>=0.23.1 in c:\\users\\compu\\appdata\\local\\programs\\python\\python39\\lib\\site-packages (from tensorflow<2.11) (0.31.0)\n",
      "Requirement already satisfied: grpcio<2.0,>=1.24.3 in c:\\users\\compu\\appdata\\local\\programs\\python\\python39\\lib\\site-packages (from tensorflow<2.11) (1.56.2)\n",
      "Requirement already satisfied: tensorboard<2.11,>=2.10 in c:\\users\\compu\\appdata\\local\\programs\\python\\python39\\lib\\site-packages (from tensorflow<2.11) (2.10.1)\n",
      "Requirement already satisfied: tensorflow-estimator<2.11,>=2.10.0 in c:\\users\\compu\\appdata\\local\\programs\\python\\python39\\lib\\site-packages (from tensorflow<2.11) (2.10.0)\n",
      "Requirement already satisfied: keras<2.11,>=2.10.0 in c:\\users\\compu\\appdata\\local\\programs\\python\\python39\\lib\\site-packages (from tensorflow<2.11) (2.10.0)\n",
      "Requirement already satisfied: wheel<1.0,>=0.23.0 in c:\\users\\compu\\appdata\\local\\programs\\python\\python39\\lib\\site-packages (from astunparse>=1.6.0->tensorflow<2.11) (0.40.0)\n",
      "Requirement already satisfied: google-auth<3,>=1.6.3 in c:\\users\\compu\\appdata\\local\\programs\\python\\python39\\lib\\site-packages (from tensorboard<2.11,>=2.10->tensorflow<2.11) (2.22.0)\n",
      "Requirement already satisfied: google-auth-oauthlib<0.5,>=0.4.1 in c:\\users\\compu\\appdata\\local\\programs\\python\\python39\\lib\\site-packages (from tensorboard<2.11,>=2.10->tensorflow<2.11) (0.4.6)\n",
      "Requirement already satisfied: markdown>=2.6.8 in c:\\users\\compu\\appdata\\local\\programs\\python\\python39\\lib\\site-packages (from tensorboard<2.11,>=2.10->tensorflow<2.11) (3.4.3)\n",
      "Requirement already satisfied: requests<3,>=2.21.0 in c:\\users\\compu\\appdata\\local\\programs\\python\\python39\\lib\\site-packages (from tensorboard<2.11,>=2.10->tensorflow<2.11) (2.31.0)\n",
      "Requirement already satisfied: tensorboard-data-server<0.7.0,>=0.6.0 in c:\\users\\compu\\appdata\\local\\programs\\python\\python39\\lib\\site-packages (from tensorboard<2.11,>=2.10->tensorflow<2.11) (0.6.1)\n",
      "Requirement already satisfied: tensorboard-plugin-wit>=1.6.0 in c:\\users\\compu\\appdata\\local\\programs\\python\\python39\\lib\\site-packages (from tensorboard<2.11,>=2.10->tensorflow<2.11) (1.8.1)\n",
      "Requirement already satisfied: werkzeug>=1.0.1 in c:\\users\\compu\\appdata\\local\\programs\\python\\python39\\lib\\site-packages (from tensorboard<2.11,>=2.10->tensorflow<2.11) (2.3.6)\n",
      "Requirement already satisfied: cachetools<6.0,>=2.0.0 in c:\\users\\compu\\appdata\\local\\programs\\python\\python39\\lib\\site-packages (from google-auth<3,>=1.6.3->tensorboard<2.11,>=2.10->tensorflow<2.11) (5.3.1)\n",
      "Requirement already satisfied: pyasn1-modules>=0.2.1 in c:\\users\\compu\\appdata\\local\\programs\\python\\python39\\lib\\site-packages (from google-auth<3,>=1.6.3->tensorboard<2.11,>=2.10->tensorflow<2.11) (0.3.0)\n",
      "Requirement already satisfied: rsa<5,>=3.1.4 in c:\\users\\compu\\appdata\\local\\programs\\python\\python39\\lib\\site-packages (from google-auth<3,>=1.6.3->tensorboard<2.11,>=2.10->tensorflow<2.11) (4.9)\n",
      "Requirement already satisfied: urllib3<2.0 in c:\\users\\compu\\appdata\\local\\programs\\python\\python39\\lib\\site-packages (from google-auth<3,>=1.6.3->tensorboard<2.11,>=2.10->tensorflow<2.11) (1.26.16)\n",
      "Requirement already satisfied: requests-oauthlib>=0.7.0 in c:\\users\\compu\\appdata\\local\\programs\\python\\python39\\lib\\site-packages (from google-auth-oauthlib<0.5,>=0.4.1->tensorboard<2.11,>=2.10->tensorflow<2.11) (1.3.1)\n",
      "Requirement already satisfied: importlib-metadata>=4.4 in c:\\users\\compu\\appdata\\local\\programs\\python\\python39\\lib\\site-packages (from markdown>=2.6.8->tensorboard<2.11,>=2.10->tensorflow<2.11) (6.8.0)\n",
      "Requirement already satisfied: charset-normalizer<4,>=2 in c:\\users\\compu\\appdata\\local\\programs\\python\\python39\\lib\\site-packages (from requests<3,>=2.21.0->tensorboard<2.11,>=2.10->tensorflow<2.11) (3.2.0)\n",
      "Requirement already satisfied: idna<4,>=2.5 in c:\\users\\compu\\appdata\\local\\programs\\python\\python39\\lib\\site-packages (from requests<3,>=2.21.0->tensorboard<2.11,>=2.10->tensorflow<2.11) (3.4)\n",
      "Requirement already satisfied: certifi>=2017.4.17 in c:\\users\\compu\\appdata\\local\\programs\\python\\python39\\lib\\site-packages (from requests<3,>=2.21.0->tensorboard<2.11,>=2.10->tensorflow<2.11) (2023.5.7)\n",
      "Requirement already satisfied: MarkupSafe>=2.1.1 in c:\\users\\compu\\appdata\\local\\programs\\python\\python39\\lib\\site-packages (from werkzeug>=1.0.1->tensorboard<2.11,>=2.10->tensorflow<2.11) (2.1.3)\n",
      "Requirement already satisfied: zipp>=0.5 in c:\\users\\compu\\appdata\\local\\programs\\python\\python39\\lib\\site-packages (from importlib-metadata>=4.4->markdown>=2.6.8->tensorboard<2.11,>=2.10->tensorflow<2.11) (3.16.2)\n",
      "Requirement already satisfied: pyasn1<0.6.0,>=0.4.6 in c:\\users\\compu\\appdata\\local\\programs\\python\\python39\\lib\\site-packages (from pyasn1-modules>=0.2.1->google-auth<3,>=1.6.3->tensorboard<2.11,>=2.10->tensorflow<2.11) (0.5.0)\n",
      "Requirement already satisfied: oauthlib>=3.0.0 in c:\\users\\compu\\appdata\\local\\programs\\python\\python39\\lib\\site-packages (from requests-oauthlib>=0.7.0->google-auth-oauthlib<0.5,>=0.4.1->tensorboard<2.11,>=2.10->tensorflow<2.11) (3.2.2)\n",
      "Note: you may need to restart the kernel to use updated packages.\n"
     ]
    }
   ],
   "source": [
    "pip install \"tensorflow<2.11\""
   ]
  },
  {
   "cell_type": "code",
   "execution_count": 3,
   "id": "9ae62226-c006-4926-b110-97b567961814",
   "metadata": {},
   "outputs": [
    {
     "name": "stdout",
     "output_type": "stream",
     "text": [
      "Requirement already satisfied: pandas in c:\\users\\compu\\appdata\\local\\programs\\python\\python39\\lib\\site-packages (2.0.3)\n",
      "Requirement already satisfied: python-dateutil>=2.8.2 in c:\\users\\compu\\appdata\\local\\programs\\python\\python39\\lib\\site-packages (from pandas) (2.8.2)\n",
      "Requirement already satisfied: pytz>=2020.1 in c:\\users\\compu\\appdata\\local\\programs\\python\\python39\\lib\\site-packages (from pandas) (2023.3)\n",
      "Requirement already satisfied: tzdata>=2022.1 in c:\\users\\compu\\appdata\\local\\programs\\python\\python39\\lib\\site-packages (from pandas) (2023.3)\n",
      "Requirement already satisfied: numpy>=1.20.3 in c:\\users\\compu\\appdata\\local\\programs\\python\\python39\\lib\\site-packages (from pandas) (1.25.1)\n",
      "Requirement already satisfied: six>=1.5 in c:\\users\\compu\\appdata\\local\\programs\\python\\python39\\lib\\site-packages (from python-dateutil>=2.8.2->pandas) (1.16.0)\n",
      "Note: you may need to restart the kernel to use updated packages.\n"
     ]
    }
   ],
   "source": [
    "pip install pandas"
   ]
  },
  {
   "cell_type": "code",
   "execution_count": 4,
   "id": "0b3b2e9b-ec2f-4c56-99e3-629ac51de1dd",
   "metadata": {},
   "outputs": [
    {
     "data": {
      "text/plain": [
       "'2.10.1'"
      ]
     },
     "execution_count": 4,
     "metadata": {},
     "output_type": "execute_result"
    }
   ],
   "source": [
    "import typing\n",
    "import string\n",
    "\n",
    "import tensorflow as tf\n",
    "from tensorflow import keras\n",
    "import numpy as np\n",
    "import cv2\n",
    "import os\n",
    "import hashlib\n",
    "\n",
    "import urllib.request\n",
    "import urllib.parse\n",
    "\n",
    "tf.__version__"
   ]
  },
  {
   "cell_type": "code",
   "execution_count": 5,
   "id": "846e8cb0-b511-4730-97a2-6f9b8f648268",
   "metadata": {},
   "outputs": [],
   "source": [
    "import keras_ocr"
   ]
  },
  {
   "cell_type": "code",
   "execution_count": 6,
   "id": "50e71d62-b057-4678-8b78-69699878c069",
   "metadata": {},
   "outputs": [
    {
     "name": "stdout",
     "output_type": "stream",
     "text": [
      "Looking for C:\\Users\\compu\\.keras-ocr\\craft_mlt_25k.h5\n",
      "Looking for C:\\Users\\compu\\.keras-ocr\\crnn_kurapan.h5\n"
     ]
    }
   ],
   "source": [
    "pipeline = keras_ocr.pipeline.Pipeline()"
   ]
  },
  {
   "cell_type": "code",
   "execution_count": 7,
   "id": "f8ed7036-8f71-47d0-aef3-254fc5dfc538",
   "metadata": {},
   "outputs": [],
   "source": [
    "images = [\n",
    "    keras_ocr.tools.read(img) for img in ['20230721_214550.jpg']\n",
    "]"
   ]
  },
  {
   "cell_type": "code",
   "execution_count": 8,
   "id": "15d92934-b5b7-4eab-bd39-a007c45a90ff",
   "metadata": {},
   "outputs": [
    {
     "name": "stdout",
     "output_type": "stream",
     "text": [
      "1/1 [==============================] - 7s 7s/step\n",
      "1/1 [==============================] - 1s 1s/step\n"
     ]
    }
   ],
   "source": [
    "prediction_groups = pipeline.recognize(images)"
   ]
  },
  {
   "cell_type": "code",
   "execution_count": 9,
   "id": "f5ee18ca-77da-4f5a-ac22-4950dc02e078",
   "metadata": {},
   "outputs": [],
   "source": [
    "import matplotlib.pyplot as plt\n",
    "import pandas as pd"
   ]
  },
  {
   "cell_type": "code",
   "execution_count": 10,
   "id": "b4716553-3994-4887-b4a4-e1417c2288d5",
   "metadata": {},
   "outputs": [
    {
     "data": {
      "text/plain": [
       "<Axes: >"
      ]
     },
     "execution_count": 10,
     "metadata": {},
     "output_type": "execute_result"
    },
    {
     "data": {
      "image/png": "[encoded data removed]",
      "text/plain": [
       "<Figure size 640x480 with 1 Axes>"
      ]
     },
     "metadata": {},
     "output_type": "display_data"
    }
   ],
   "source": [
    "keras_ocr.tools.drawAnnotations(image=images[0], predictions=prediction_groups[0])"
   ]
  },
  {
   "cell_type": "code",
   "execution_count": 11,
   "id": "cbbdf46d-b3b9-409d-a075-479d7e8e99eb",
   "metadata": {},
   "outputs": [
    {
     "data": {
      "text/plain": [
       "[[('test',\n",
       "   array([[ 511.71875, 1339.8438 ],\n",
       "          [ 867.1875 , 1339.8438 ],\n",
       "          [ 867.1875 , 1582.0312 ],\n",
       "          [ 511.71875, 1582.0312 ]], dtype=float32)),\n",
       "  ('hacwrithn',\n",
       "   array([[1085.9375, 1378.9062],\n",
       "          [1972.6562, 1378.9062],\n",
       "          [1972.6562, 1605.4688],\n",
       "          [1085.9375, 1605.4688]], dtype=float32))]]"
      ]
     },
     "execution_count": 11,
     "metadata": {},
     "output_type": "execute_result"
    }
   ],
   "source": [
    "prediction_groups"
   ]
  },
  {
   "cell_type": "code",
   "execution_count": 12,
   "id": "f815786b-7648-4a68-b4ba-3e4f9d4a9fcc",
   "metadata": {},
   "outputs": [],
   "source": [
    "from PIL import Image"
   ]
  },
  {
   "cell_type": "code",
   "execution_count": 13,
   "id": "b06b0a32-ed6c-4007-bc3f-9b033684d463",
   "metadata": {},
   "outputs": [
    {
     "name": "stdout",
     "output_type": "stream",
     "text": [
      "('test', array([[ 511.71875, 1339.8438 ],\n",
      "       [ 867.1875 , 1339.8438 ],\n",
      "       [ 867.1875 , 1582.0312 ],\n",
      "       [ 511.71875, 1582.0312 ]], dtype=float32))\n"
     ]
    }
   ],
   "source": [
    "im = Image.open(r\"20230721_214550.jpg\")\n",
    "print(prediction_groups[0][0])\n",
    "im_cropped = im.crop((prediction_groups[0][0][1][0][0], prediction_groups[0][0][1][0][1], prediction_groups[0][0][1][2][0], prediction_groups[0][0][1][2][1]))\n",
    "im_cropped.show()"
   ]
  },
  {
   "cell_type": "code",
   "execution_count": 14,
   "id": "4dcb6dc3-09ed-4d90-b47c-cd8f55a90b27",
   "metadata": {},
   "outputs": [],
   "source": [
    "threshold = 127\n",
    "fn = lambda x : 255 if x < threshold else 0\n",
    "im_recolored = im_cropped.convert('L').point(fn, mode='1')\n",
    "im_recolored.show()"
   ]
  },
  {
   "cell_type": "code",
   "execution_count": 15,
   "id": "0fb85827-9918-4a93-bc78-3ca63b48bbb3",
   "metadata": {
    "editable": true,
    "slideshow": {
     "slide_type": ""
    },
    "tags": []
   },
   "outputs": [
    {
     "name": "stdout",
     "output_type": "stream",
     "text": [
      "(242, 355)\n",
      "[[False False False ... False False False]\n",
      " [False False False ... False False False]\n",
      " [False False False ... False False False]\n",
      " ...\n",
      " [False False False ... False False False]\n",
      " [False False False ... False False False]\n",
      " [False False False ... False False False]]\n"
     ]
    }
   ],
   "source": [
    "values = np.array(im_recolored)\n",
    "print(values.shape)\n",
    "print(values)"
   ]
  },
  {
   "cell_type": "code",
   "execution_count": 16,
   "id": "c8db9706-851d-48b9-abb9-184d90dc949e",
   "metadata": {},
   "outputs": [
    {
     "data": {
      "text/plain": [
       "array([[[0., 0., 0., ..., 0., 0., 0.],\n",
       "        [0., 0., 0., ..., 0., 0., 0.],\n",
       "        [0., 0., 0., ..., 0., 0., 0.],\n",
       "        ...,\n",
       "        [0., 0., 0., ..., 0., 0., 0.],\n",
       "        [0., 0., 0., ..., 0., 0., 0.],\n",
       "        [0., 0., 0., ..., 0., 0., 0.]],\n",
       "\n",
       "       [[0., 0., 0., ..., 0., 0., 0.],\n",
       "        [0., 0., 0., ..., 0., 0., 0.],\n",
       "        [0., 0., 0., ..., 0., 0., 0.],\n",
       "        ...,\n",
       "        [0., 0., 0., ..., 0., 0., 0.],\n",
       "        [0., 0., 0., ..., 0., 0., 0.],\n",
       "        [0., 0., 0., ..., 0., 0., 0.]],\n",
       "\n",
       "       [[0., 0., 0., ..., 0., 0., 0.],\n",
       "        [0., 0., 0., ..., 0., 0., 0.],\n",
       "        [0., 0., 0., ..., 0., 0., 0.],\n",
       "        ...,\n",
       "        [0., 0., 0., ..., 0., 0., 0.],\n",
       "        [0., 0., 0., ..., 0., 0., 0.],\n",
       "        [0., 0., 0., ..., 0., 0., 0.]],\n",
       "\n",
       "       ...,\n",
       "\n",
       "       [[0., 0., 0., ..., 0., 0., 0.],\n",
       "        [0., 0., 0., ..., 0., 0., 0.],\n",
       "        [0., 0., 0., ..., 0., 0., 0.],\n",
       "        ...,\n",
       "        [0., 0., 0., ..., 0., 0., 0.],\n",
       "        [0., 0., 0., ..., 0., 0., 0.],\n",
       "        [0., 0., 0., ..., 0., 0., 0.]],\n",
       "\n",
       "       [[0., 0., 0., ..., 0., 0., 0.],\n",
       "        [0., 0., 0., ..., 0., 0., 0.],\n",
       "        [0., 0., 0., ..., 0., 0., 0.],\n",
       "        ...,\n",
       "        [0., 0., 0., ..., 0., 0., 0.],\n",
       "        [0., 0., 0., ..., 0., 0., 0.],\n",
       "        [0., 0., 0., ..., 0., 0., 0.]],\n",
       "\n",
       "       [[0., 0., 0., ..., 0., 0., 0.],\n",
       "        [0., 0., 0., ..., 0., 0., 0.],\n",
       "        [0., 0., 0., ..., 0., 0., 0.],\n",
       "        ...,\n",
       "        [0., 0., 0., ..., 0., 0., 0.],\n",
       "        [0., 0., 0., ..., 0., 0., 0.],\n",
       "        [0., 0., 0., ..., 0., 0., 0.]]])"
      ]
     },
     "execution_count": 16,
     "metadata": {},
     "output_type": "execute_result"
    }
   ],
   "source": [
    "normal_dataset = np.empty((39334, 28, 28))\n",
    "i = 0\n",
    "\n",
    "def convert_image(img):\n",
    "    threshold = 127\n",
    "    fn = lambda x : 255 if x > threshold else 0\n",
    "    img_recolored = img.convert('L').point(fn, mode='1').resize((28, 28))\n",
    "    return img_recolored\n",
    "\n",
    "for file in os.listdir(\"data/Train/Normal\"):\n",
    "    img = Image.open(r\"data/Train/Normal/\" + file)\n",
    "    normal_dataset[i] = np.array(convert_image(img))\n",
    "    i += 1\n",
    "\n",
    "normal_dataset"
   ]
  },
  {
   "cell_type": "code",
   "execution_count": 17,
   "id": "ce349bf1-1ba4-4d42-8a0b-2b965fbf991e",
   "metadata": {},
   "outputs": [
    {
     "data": {
      "text/plain": [
       "array([[[0., 0., 0., ..., 0., 0., 0.],\n",
       "        [0., 0., 0., ..., 0., 0., 0.],\n",
       "        [0., 0., 0., ..., 0., 0., 0.],\n",
       "        ...,\n",
       "        [0., 0., 0., ..., 0., 0., 0.],\n",
       "        [0., 0., 0., ..., 0., 0., 0.],\n",
       "        [0., 0., 0., ..., 0., 0., 0.]],\n",
       "\n",
       "       [[0., 0., 0., ..., 0., 0., 0.],\n",
       "        [0., 0., 0., ..., 0., 0., 0.],\n",
       "        [0., 0., 0., ..., 0., 0., 0.],\n",
       "        ...,\n",
       "        [0., 0., 0., ..., 0., 0., 0.],\n",
       "        [0., 0., 0., ..., 0., 0., 0.],\n",
       "        [0., 0., 0., ..., 0., 0., 0.]],\n",
       "\n",
       "       [[0., 0., 0., ..., 0., 0., 0.],\n",
       "        [0., 0., 0., ..., 0., 0., 0.],\n",
       "        [0., 0., 0., ..., 0., 0., 0.],\n",
       "        ...,\n",
       "        [0., 0., 0., ..., 0., 0., 0.],\n",
       "        [0., 0., 0., ..., 0., 0., 0.],\n",
       "        [0., 0., 0., ..., 0., 0., 0.]],\n",
       "\n",
       "       ...,\n",
       "\n",
       "       [[0., 0., 0., ..., 0., 0., 0.],\n",
       "        [0., 0., 0., ..., 0., 0., 0.],\n",
       "        [0., 0., 0., ..., 0., 0., 0.],\n",
       "        ...,\n",
       "        [0., 0., 0., ..., 0., 0., 0.],\n",
       "        [0., 0., 0., ..., 0., 0., 0.],\n",
       "        [0., 0., 0., ..., 0., 0., 0.]],\n",
       "\n",
       "       [[0., 0., 0., ..., 0., 0., 0.],\n",
       "        [0., 0., 0., ..., 0., 0., 0.],\n",
       "        [0., 0., 0., ..., 0., 0., 0.],\n",
       "        ...,\n",
       "        [0., 0., 0., ..., 0., 0., 0.],\n",
       "        [0., 0., 0., ..., 0., 0., 0.],\n",
       "        [0., 0., 0., ..., 0., 0., 0.]],\n",
       "\n",
       "       [[0., 0., 0., ..., 0., 0., 0.],\n",
       "        [0., 0., 0., ..., 0., 0., 0.],\n",
       "        [0., 0., 0., ..., 0., 0., 0.],\n",
       "        ...,\n",
       "        [0., 0., 0., ..., 0., 0., 0.],\n",
       "        [0., 0., 0., ..., 0., 0., 0.],\n",
       "        [0., 0., 0., ..., 0., 0., 0.]]])"
      ]
     },
     "execution_count": 17,
     "metadata": {},
     "output_type": "execute_result"
    }
   ],
   "source": [
    "dyslexic_dataset = np.empty((65534, 28, 28))\n",
    "i = 0\n",
    "\n",
    "for file in os.listdir(\"data/Train/Corrected\"):\n",
    "    img = Image.open(r\"data/Train/Corrected/\" + file)\n",
    "    dyslexic_dataset[i] = np.array(convert_image(img))\n",
    "    i += 1\n",
    "\n",
    "dyslexic_dataset"
   ]
  },
  {
   "cell_type": "code",
   "execution_count": 18,
   "id": "90f553cc-0cad-4cf8-b191-a28eeeb85fec",
   "metadata": {},
   "outputs": [],
   "source": [
    "normal_dataset_reorganized = np.empty((39334, 28, 28))\n",
    "dyslexic_dataset_reorganized = np.empty((65534, 28, 28))\n",
    "\n",
    "for i in range(len(normal_dataset)):\n",
    "    normal_dataset_reorganized[i] = np.transpose(normal_dataset[i])\n",
    "\n",
    "for i in range(len(dyslexic_dataset)):\n",
    "    dyslexic_dataset_reorganized[i] = np.transpose(dyslexic_dataset[i])\n",
    "\n"
   ]
  },
  {
   "cell_type": "code",
   "execution_count": 19,
   "id": "266dca5a-3c5f-48b1-b55d-7ea6dfec40f0",
   "metadata": {},
   "outputs": [],
   "source": [
    "k = 1\n",
    "normal_dataset_list = normal_dataset_reorganized.tolist()\n",
    "\n",
    "for i in range(len(normal_dataset_list)):\n",
    "    k = 1\n",
    "    for j in reversed(normal_dataset_list[i]):\n",
    "        if max(j) == 0:\n",
    "            #print(\"Image \" + str(i) + \" Deleted column at index \" + str(28 - k) + \". K = \" + str(k))\n",
    "            normal_dataset_list[i].pop(28 - k)\n",
    "        k += 1\n"
   ]
  },
  {
   "cell_type": "code",
   "execution_count": 20,
   "id": "3ab41f01-2e5a-4bda-9704-1d47ceee5b8c",
   "metadata": {},
   "outputs": [],
   "source": [
    "k = 1\n",
    "dyslexic_dataset_list = dyslexic_dataset_reorganized.tolist()\n",
    "\n",
    "for i in range(len(dyslexic_dataset_list)):\n",
    "    k = 1\n",
    "    for j in reversed(dyslexic_dataset_list[i]):\n",
    "        if max(j) == 0:\n",
    "            dyslexic_dataset_list[i].pop(28 - k)\n",
    "        k += 1"
   ]
  },
  {
   "cell_type": "code",
   "execution_count": 38,
   "id": "53c05afc-fc73-4856-88f7-b0f9eb7425ef",
   "metadata": {
    "editable": true,
    "slideshow": {
     "slide_type": ""
    },
    "tags": []
   },
   "outputs": [
    {
     "name": "stdout",
     "output_type": "stream",
     "text": [
      "25000\n"
     ]
    }
   ],
   "source": [
    "import random\n",
    "import matplotlib.cm as cm\n",
    "\n",
    "random.seed(1)\n",
    "\n",
    "normal_training = []\n",
    "\n",
    "def add_spacing(img):\n",
    "    for i in range(random.randint(0, 2)):\n",
    "        img.append([0] * 28)\n",
    "\n",
    "def create_training_normal(letters):\n",
    "    nums = []\n",
    "    spliced_image = []\n",
    "    for i in range(letters * 5000):\n",
    "        nums.append(random.randint(0, 35534))\n",
    "    for i in range(5000):\n",
    "        for k in range(letters):\n",
    "            for j in normal_dataset_list[nums[i + 5000 * k]]:\n",
    "                spliced_image.append(j)\n",
    "            if k != letters - 1:\n",
    "                add_spacing(spliced_image)\n",
    "        normal_training.append(spliced_image)\n",
    "        spliced_image = []\n",
    "\n",
    "for i in range(3, 8):\n",
    "    create_training_normal(i)\n",
    "\n",
    "print(len(normal_training))\n",
    "\n",
    "test = normal_training[24999]\n",
    "test_image = np.transpose(np.array(test))\n",
    "plt.imsave('8_letter.png', test_image, cmap=cm.gray)"
   ]
  },
  {
   "cell_type": "code",
   "execution_count": 40,
   "id": "45b1b61d-1364-43ea-9c5d-f4c9f4af4309",
   "metadata": {},
   "outputs": [
    {
     "data": {
      "image/png": "[encoded data removed]",
      "text/plain": [
       "<Figure size 640x480 with 1 Axes>"
      ]
     },
     "metadata": {},
     "output_type": "display_data"
    }
   ],
   "source": [
    "normal_training_columns = [len(x) for x in normal_training]\n",
    "plt.hist(normal_training_columns)\n",
    "plt.show()"
   ]
  },
  {
   "cell_type": "code",
   "execution_count": null,
   "id": "8f2fceb6-bda6-4a0a-8344-6338a5116b68",
   "metadata": {},
   "outputs": [],
   "source": [
    "import collections\n",
    "\n",
    "freq = collections.Counter(normal_training_columns)"
   ]
  }
 ],
 "metadata": {
  "kernelspec": {
   "display_name": "Python 3 (ipykernel)",
   "language": "python",
   "name": "python3"
  },
  "language_info": {
   "codemirror_mode": {
    "name": "ipython",
    "version": 3
   },
   "file_extension": ".py",
   "mimetype": "text/x-python",
   "name": "python",
   "nbconvert_exporter": "python",
   "pygments_lexer": "ipython3",
   "version": "3.9.13"
  }
 },
 "nbformat": 4,
 "nbformat_minor": 5
}
